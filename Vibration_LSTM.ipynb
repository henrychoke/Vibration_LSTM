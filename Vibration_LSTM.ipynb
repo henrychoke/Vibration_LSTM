{
  "nbformat": 4,
  "nbformat_minor": 0,
  "metadata": {
    "colab": {
      "name": "Vibration_LSTM.ipynb",
      "provenance": [],
      "mount_file_id": "1lxcf8Qa51WaD4PTkQ-qcF6vrGrny8Xau",
      "authorship_tag": "ABX9TyOSderEwrFmHEVOuPjc0cc/",
      "include_colab_link": true
    },
    "kernelspec": {
      "name": "python3",
      "display_name": "Python 3"
    },
    "language_info": {
      "name": "python"
    },
    "accelerator": "GPU"
  },
  "cells": [
    {
      "cell_type": "markdown",
      "metadata": {
        "id": "view-in-github",
        "colab_type": "text"
      },
      "source": [
        "<a href=\"https://colab.research.google.com/github/henrychoke/Vibration_LSTM/blob/main/Vibration_LSTM.ipynb\" target=\"_parent\"><img src=\"https://colab.research.google.com/assets/colab-badge.svg\" alt=\"Open In Colab\"/></a>"
      ]
    },
    {
      "cell_type": "code",
      "metadata": {
        "id": "IiWZAjEq1E9A"
      },
      "source": [
        "import scipy.io as sio \n",
        "import matplotlib.pyplot as plt \n",
        "import numpy as np \n",
        "import pandas as pd\n",
        "import codecs\n",
        "from numpy import float32"
      ],
      "execution_count": 1,
      "outputs": []
    },
    {
      "cell_type": "code",
      "metadata": {
        "id": "lnh82Zke1s3a"
      },
      "source": [
        "path = '/content/drive/MyDrive/ML2021/h30hz0.txt'\n",
        "f=open(path,\"r\")\n",
        "lines=f.readlines()\n",
        "result=[]\n",
        "for x in lines:\n",
        "    result.append(x.split('\\t')[0])\n",
        "f.close()"
      ],
      "execution_count": 2,
      "outputs": []
    },
    {
      "cell_type": "code",
      "metadata": {
        "colab": {
          "base_uri": "https://localhost:8080/"
        },
        "id": "lNb5WhbjC7DZ",
        "outputId": "09e84b20-4231-46d3-ba91-26a17215a6b2"
      },
      "source": [
        "type(result)"
      ],
      "execution_count": 3,
      "outputs": [
        {
          "output_type": "execute_result",
          "data": {
            "text/plain": [
              "list"
            ]
          },
          "metadata": {
            "tags": []
          },
          "execution_count": 3
        }
      ]
    },
    {
      "cell_type": "code",
      "metadata": {
        "colab": {
          "base_uri": "https://localhost:8080/"
        },
        "id": "sZU1_2XmEt96",
        "outputId": "c9fccfbd-5489-4692-8806-4ae63dfa3306"
      },
      "source": [
        "from pandas.core.frame import DataFrame\n",
        "data=DataFrame(result)\n",
        "print(data)\n",
        "data.shape"
      ],
      "execution_count": 4,
      "outputs": [
        {
          "output_type": "stream",
          "text": [
            "                   0\n",
            "0       4.63671e+000\n",
            "1       1.99280e+000\n",
            "2      -3.76411e+000\n",
            "3      -4.55871e+000\n",
            "4       5.75382e-001\n",
            "...              ...\n",
            "88827   2.80913e+000\n",
            "88828   1.19527e+001\n",
            "88829   6.53028e+000\n",
            "88830  -8.61446e+000\n",
            "88831  -1.37773e+001\n",
            "\n",
            "[88832 rows x 1 columns]\n"
          ],
          "name": "stdout"
        },
        {
          "output_type": "execute_result",
          "data": {
            "text/plain": [
              "(88832, 1)"
            ]
          },
          "metadata": {
            "tags": []
          },
          "execution_count": 4
        }
      ]
    },
    {
      "cell_type": "code",
      "metadata": {
        "colab": {
          "base_uri": "https://localhost:8080/"
        },
        "id": "IJ3pBi9e13-1",
        "outputId": "7cdcf392-0fac-4baf-a0e7-1d478d2b1d16"
      },
      "source": [
        "test=data[71000:len(data)]  #訓練資料及測試資料呈8：2\n",
        "train=data[:len(data)-len(test)]\n",
        "train_set = train\n",
        "test_set = test\n",
        "print(train)"
      ],
      "execution_count": 6,
      "outputs": [
        {
          "output_type": "stream",
          "text": [
            "                   0\n",
            "0       4.63671e+000\n",
            "1       1.99280e+000\n",
            "2      -3.76411e+000\n",
            "3      -4.55871e+000\n",
            "4       5.75382e-001\n",
            "...              ...\n",
            "70995  -7.09850e+000\n",
            "70996   3.65871e+000\n",
            "70997  -1.61774e-002\n",
            "70998  -4.31347e+000\n",
            "70999  -2.89673e+000\n",
            "\n",
            "[71000 rows x 1 columns]\n"
          ],
          "name": "stdout"
        }
      ]
    },
    {
      "cell_type": "code",
      "metadata": {
        "colab": {
          "base_uri": "https://localhost:8080/"
        },
        "id": "lq427L0j1-pD",
        "outputId": "54624d7d-ab64-4408-8ef1-31569897d930"
      },
      "source": [
        "from sklearn.preprocessing import MinMaxScaler \n",
        "sc = MinMaxScaler(feature_range = (0, 1))\n",
        "training_set_scaled = sc.fit_transform(train_set)\n",
        "print(training_set_scaled)"
      ],
      "execution_count": 7,
      "outputs": [
        {
          "output_type": "stream",
          "text": [
            "[[0.55419601]\n",
            " [0.52016102]\n",
            " [0.44605244]\n",
            " ...\n",
            " [0.49429949]\n",
            " [0.43898054]\n",
            " [0.4572182 ]]\n"
          ],
          "name": "stdout"
        }
      ]
    },
    {
      "cell_type": "code",
      "metadata": {
        "id": "BS9vKSEW2DF-"
      },
      "source": [
        "X_train = []  #預測點前50筆資料\n",
        "y_train = []  #預測點\n",
        "for i in range(50,len(train_set)):\n",
        "    X_train.append(training_set_scaled[i-50:i-1, 0]) \n",
        "    y_train.append(training_set_scaled[i, 0]) \n",
        "X_train, y_train = np.array(X_train), np.array(y_train) \n",
        "X_train = np.reshape(X_train, (X_train.shape[0], X_train.shape[1], 1))"
      ],
      "execution_count": 8,
      "outputs": []
    },
    {
      "cell_type": "code",
      "metadata": {
        "id": "gh9_fSC92IfQ"
      },
      "source": [
        "import keras\n",
        "from keras.models import Sequential\n",
        "from keras.layers import Dense\n",
        "from keras.layers import LSTM\n",
        "from keras.layers import Dropout,BatchNormalization"
      ],
      "execution_count": 9,
      "outputs": []
    },
    {
      "cell_type": "code",
      "metadata": {
        "id": "TL7Y1rnf2LFL"
      },
      "source": [
        "keras.backend.clear_session()\n",
        "regressor = Sequential()\n",
        "regressor.add(LSTM(units = 100, input_shape = (X_train.shape[1], 1)))\n",
        "regressor.add(Dense(units = 1))\n",
        "regressor.compile(optimizer = 'adam', loss = 'mean_squared_error')"
      ],
      "execution_count": 10,
      "outputs": []
    },
    {
      "cell_type": "code",
      "metadata": {
        "colab": {
          "base_uri": "https://localhost:8080/"
        },
        "id": "qhpJNYea2Smo",
        "outputId": "d3019d2c-0b02-4f1e-a136-b4f5ee163fb2"
      },
      "source": [
        "regressor.summary()"
      ],
      "execution_count": 11,
      "outputs": [
        {
          "output_type": "stream",
          "text": [
            "Model: \"sequential\"\n",
            "_________________________________________________________________\n",
            "Layer (type)                 Output Shape              Param #   \n",
            "=================================================================\n",
            "lstm (LSTM)                  (None, 100)               40800     \n",
            "_________________________________________________________________\n",
            "dense (Dense)                (None, 1)                 101       \n",
            "=================================================================\n",
            "Total params: 40,901\n",
            "Trainable params: 40,901\n",
            "Non-trainable params: 0\n",
            "_________________________________________________________________\n"
          ],
          "name": "stdout"
        }
      ]
    },
    {
      "cell_type": "code",
      "metadata": {
        "colab": {
          "base_uri": "https://localhost:8080/",
          "height": 1000
        },
        "id": "CD4fDJLx2bnC",
        "outputId": "c40350d2-85f6-429e-f144-065f4260e59d"
      },
      "source": [
        "history = regressor.fit(X_train, y_train, epochs = 100, validation_split=0.33)\n",
        "print(history.history[ 'loss' ])\n"
      ],
      "execution_count": 12,
      "outputs": [
        {
          "output_type": "stream",
          "text": [
            "Epoch 1/100\n",
            "1486/1486 [==============================] - 41s 5ms/step - loss: 0.0099 - val_loss: 0.0034\n",
            "Epoch 2/100\n",
            "1486/1486 [==============================] - 7s 5ms/step - loss: 0.0033 - val_loss: 0.0032\n",
            "Epoch 3/100\n",
            "1486/1486 [==============================] - 7s 5ms/step - loss: 0.0032 - val_loss: 0.0030\n",
            "Epoch 4/100\n",
            "1486/1486 [==============================] - 8s 5ms/step - loss: 0.0030 - val_loss: 0.0029\n",
            "Epoch 5/100\n",
            "1486/1486 [==============================] - 7s 5ms/step - loss: 0.0028 - val_loss: 0.0030\n",
            "Epoch 6/100\n",
            "1486/1486 [==============================] - 7s 5ms/step - loss: 0.0028 - val_loss: 0.0030\n",
            "Epoch 7/100\n",
            "1486/1486 [==============================] - 7s 5ms/step - loss: 0.0027 - val_loss: 0.0030\n",
            "Epoch 8/100\n",
            "1486/1486 [==============================] - 7s 5ms/step - loss: 0.0026 - val_loss: 0.0027\n",
            "Epoch 9/100\n",
            "1486/1486 [==============================] - 7s 5ms/step - loss: 0.0026 - val_loss: 0.0026\n",
            "Epoch 10/100\n",
            "1486/1486 [==============================] - 8s 5ms/step - loss: 0.0026 - val_loss: 0.0026\n",
            "Epoch 11/100\n",
            "1486/1486 [==============================] - 8s 5ms/step - loss: 0.0025 - val_loss: 0.0026\n",
            "Epoch 12/100\n",
            "1486/1486 [==============================] - 8s 5ms/step - loss: 0.0025 - val_loss: 0.0025\n",
            "Epoch 13/100\n",
            "1486/1486 [==============================] - 8s 5ms/step - loss: 0.0024 - val_loss: 0.0025\n",
            "Epoch 14/100\n",
            "1486/1486 [==============================] - 7s 5ms/step - loss: 0.0024 - val_loss: 0.0025\n",
            "Epoch 15/100\n",
            "1486/1486 [==============================] - 7s 5ms/step - loss: 0.0024 - val_loss: 0.0024\n",
            "Epoch 16/100\n",
            "1486/1486 [==============================] - 8s 5ms/step - loss: 0.0023 - val_loss: 0.0024\n",
            "Epoch 17/100\n",
            "1486/1486 [==============================] - 8s 5ms/step - loss: 0.0023 - val_loss: 0.0023\n",
            "Epoch 18/100\n",
            "1486/1486 [==============================] - 7s 5ms/step - loss: 0.0022 - val_loss: 0.0022\n",
            "Epoch 19/100\n",
            "1486/1486 [==============================] - 7s 5ms/step - loss: 0.0022 - val_loss: 0.0022\n",
            "Epoch 20/100\n",
            "1486/1486 [==============================] - 8s 5ms/step - loss: 0.0022 - val_loss: 0.0022\n",
            "Epoch 21/100\n",
            "1486/1486 [==============================] - 7s 5ms/step - loss: 0.0021 - val_loss: 0.0021\n",
            "Epoch 22/100\n",
            "1486/1486 [==============================] - 7s 5ms/step - loss: 0.0021 - val_loss: 0.0021\n",
            "Epoch 23/100\n",
            "1486/1486 [==============================] - 7s 5ms/step - loss: 0.0021 - val_loss: 0.0022\n",
            "Epoch 24/100\n",
            "1486/1486 [==============================] - 7s 5ms/step - loss: 0.0020 - val_loss: 0.0021\n",
            "Epoch 25/100\n",
            "1486/1486 [==============================] - 7s 5ms/step - loss: 0.0020 - val_loss: 0.0020\n",
            "Epoch 26/100\n",
            "1486/1486 [==============================] - 7s 5ms/step - loss: 0.0020 - val_loss: 0.0022\n",
            "Epoch 27/100\n",
            "1486/1486 [==============================] - 8s 5ms/step - loss: 0.0020 - val_loss: 0.0020\n",
            "Epoch 28/100\n",
            "1486/1486 [==============================] - 7s 5ms/step - loss: 0.0019 - val_loss: 0.0020\n",
            "Epoch 29/100\n",
            "1486/1486 [==============================] - 8s 5ms/step - loss: 0.0019 - val_loss: 0.0020\n",
            "Epoch 30/100\n",
            "1486/1486 [==============================] - 7s 5ms/step - loss: 0.0018 - val_loss: 0.0020\n",
            "Epoch 31/100\n",
            "1486/1486 [==============================] - 7s 5ms/step - loss: 0.0019 - val_loss: 0.0019\n",
            "Epoch 32/100\n",
            "1486/1486 [==============================] - 7s 5ms/step - loss: 0.0018 - val_loss: 0.0019\n",
            "Epoch 33/100\n",
            "1486/1486 [==============================] - 7s 5ms/step - loss: 0.0018 - val_loss: 0.0019\n",
            "Epoch 34/100\n",
            "1486/1486 [==============================] - 8s 5ms/step - loss: 0.0018 - val_loss: 0.0019\n",
            "Epoch 35/100\n",
            "1486/1486 [==============================] - 7s 5ms/step - loss: 0.0017 - val_loss: 0.0019\n",
            "Epoch 36/100\n",
            "1486/1486 [==============================] - 7s 5ms/step - loss: 0.0017 - val_loss: 0.0019\n",
            "Epoch 37/100\n",
            "1486/1486 [==============================] - 7s 5ms/step - loss: 0.0017 - val_loss: 0.0019\n",
            "Epoch 38/100\n",
            "1486/1486 [==============================] - 8s 5ms/step - loss: 0.0017 - val_loss: 0.0018\n",
            "Epoch 39/100\n",
            "1486/1486 [==============================] - 8s 5ms/step - loss: 0.0017 - val_loss: 0.0018\n",
            "Epoch 40/100\n",
            "1486/1486 [==============================] - 7s 5ms/step - loss: 0.0016 - val_loss: 0.0018\n",
            "Epoch 41/100\n",
            "1486/1486 [==============================] - 8s 5ms/step - loss: 0.0016 - val_loss: 0.0019\n",
            "Epoch 42/100\n",
            "1486/1486 [==============================] - 8s 5ms/step - loss: 0.0016 - val_loss: 0.0018\n",
            "Epoch 43/100\n",
            "1486/1486 [==============================] - 7s 5ms/step - loss: 0.0016 - val_loss: 0.0019\n",
            "Epoch 44/100\n",
            "1486/1486 [==============================] - 8s 5ms/step - loss: 0.0016 - val_loss: 0.0018\n",
            "Epoch 45/100\n",
            "1486/1486 [==============================] - 7s 5ms/step - loss: 0.0016 - val_loss: 0.0018\n",
            "Epoch 46/100\n",
            "1486/1486 [==============================] - 8s 5ms/step - loss: 0.0016 - val_loss: 0.0019\n",
            "Epoch 47/100\n",
            "1486/1486 [==============================] - 8s 5ms/step - loss: 0.0015 - val_loss: 0.0018\n",
            "Epoch 48/100\n",
            "1486/1486 [==============================] - 8s 5ms/step - loss: 0.0015 - val_loss: 0.0018\n",
            "Epoch 49/100\n",
            "1486/1486 [==============================] - 8s 5ms/step - loss: 0.0015 - val_loss: 0.0018\n",
            "Epoch 50/100\n",
            "1486/1486 [==============================] - 8s 5ms/step - loss: 0.0014 - val_loss: 0.0020\n",
            "Epoch 51/100\n",
            "1486/1486 [==============================] - 7s 5ms/step - loss: 0.0014 - val_loss: 0.0018\n",
            "Epoch 52/100\n",
            "1486/1486 [==============================] - 7s 5ms/step - loss: 0.0014 - val_loss: 0.0018\n",
            "Epoch 53/100\n",
            "1486/1486 [==============================] - 8s 5ms/step - loss: 0.0014 - val_loss: 0.0018\n",
            "Epoch 54/100\n",
            "1486/1486 [==============================] - 8s 5ms/step - loss: 0.0014 - val_loss: 0.0018\n",
            "Epoch 55/100\n",
            "1486/1486 [==============================] - 7s 5ms/step - loss: 0.0014 - val_loss: 0.0019\n",
            "Epoch 56/100\n",
            "1486/1486 [==============================] - 7s 5ms/step - loss: 0.0014 - val_loss: 0.0017\n",
            "Epoch 57/100\n",
            "1486/1486 [==============================] - 7s 5ms/step - loss: 0.0013 - val_loss: 0.0018\n",
            "Epoch 58/100\n",
            "1486/1486 [==============================] - 7s 5ms/step - loss: 0.0013 - val_loss: 0.0017\n",
            "Epoch 59/100\n",
            "1486/1486 [==============================] - 8s 5ms/step - loss: 0.0013 - val_loss: 0.0017\n",
            "Epoch 60/100\n",
            "1486/1486 [==============================] - 7s 5ms/step - loss: 0.0013 - val_loss: 0.0018\n",
            "Epoch 61/100\n",
            "1486/1486 [==============================] - 8s 5ms/step - loss: 0.0013 - val_loss: 0.0017\n",
            "Epoch 62/100\n",
            "1486/1486 [==============================] - 8s 5ms/step - loss: 0.0013 - val_loss: 0.0017\n",
            "Epoch 63/100\n",
            "1486/1486 [==============================] - 8s 5ms/step - loss: 0.0012 - val_loss: 0.0018\n",
            "Epoch 64/100\n",
            "1486/1486 [==============================] - 7s 5ms/step - loss: 0.0012 - val_loss: 0.0018\n",
            "Epoch 65/100\n",
            "1486/1486 [==============================] - 7s 5ms/step - loss: 0.0012 - val_loss: 0.0017\n",
            "Epoch 66/100\n",
            "1486/1486 [==============================] - 7s 5ms/step - loss: 0.0012 - val_loss: 0.0017\n",
            "Epoch 67/100\n",
            "1486/1486 [==============================] - 8s 5ms/step - loss: 0.0012 - val_loss: 0.0018\n",
            "Epoch 68/100\n",
            "1486/1486 [==============================] - 8s 5ms/step - loss: 0.0012 - val_loss: 0.0018\n",
            "Epoch 69/100\n",
            "1486/1486 [==============================] - 8s 5ms/step - loss: 0.0012 - val_loss: 0.0017\n",
            "Epoch 70/100\n",
            "1486/1486 [==============================] - 7s 5ms/step - loss: 0.0012 - val_loss: 0.0017\n",
            "Epoch 71/100\n",
            "1486/1486 [==============================] - 7s 5ms/step - loss: 0.0011 - val_loss: 0.0018\n",
            "Epoch 72/100\n",
            "1486/1486 [==============================] - 7s 5ms/step - loss: 0.0011 - val_loss: 0.0017\n",
            "Epoch 73/100\n",
            "1486/1486 [==============================] - 7s 5ms/step - loss: 0.0011 - val_loss: 0.0017\n",
            "Epoch 74/100\n",
            "1486/1486 [==============================] - 8s 5ms/step - loss: 0.0011 - val_loss: 0.0018\n",
            "Epoch 75/100\n",
            "1486/1486 [==============================] - 8s 5ms/step - loss: 0.0011 - val_loss: 0.0018\n",
            "Epoch 76/100\n",
            "1486/1486 [==============================] - 8s 5ms/step - loss: 0.0011 - val_loss: 0.0018\n",
            "Epoch 77/100\n",
            "1486/1486 [==============================] - 8s 5ms/step - loss: 0.0010 - val_loss: 0.0018\n",
            "Epoch 78/100\n",
            "1486/1486 [==============================] - 8s 6ms/step - loss: 0.0010 - val_loss: 0.0018\n",
            "Epoch 79/100\n",
            "1486/1486 [==============================] - 8s 5ms/step - loss: 0.0010 - val_loss: 0.0017\n",
            "Epoch 80/100\n",
            "1486/1486 [==============================] - 7s 5ms/step - loss: 0.0010 - val_loss: 0.0018\n",
            "Epoch 81/100\n",
            "1486/1486 [==============================] - 8s 5ms/step - loss: 0.0010 - val_loss: 0.0018\n",
            "Epoch 82/100\n",
            "1486/1486 [==============================] - 8s 5ms/step - loss: 0.0010 - val_loss: 0.0018\n",
            "Epoch 83/100\n",
            "1486/1486 [==============================] - 7s 5ms/step - loss: 9.8990e-04 - val_loss: 0.0018\n",
            "Epoch 84/100\n",
            "1486/1486 [==============================] - 7s 5ms/step - loss: 9.7687e-04 - val_loss: 0.0019\n",
            "Epoch 85/100\n",
            "1486/1486 [==============================] - 7s 5ms/step - loss: 9.8839e-04 - val_loss: 0.0018\n",
            "Epoch 86/100\n",
            "1486/1486 [==============================] - 7s 5ms/step - loss: 9.6259e-04 - val_loss: 0.0018\n",
            "Epoch 87/100\n",
            "1486/1486 [==============================] - 8s 5ms/step - loss: 9.4986e-04 - val_loss: 0.0018\n",
            "Epoch 88/100\n",
            "1486/1486 [==============================] - 8s 5ms/step - loss: 9.3528e-04 - val_loss: 0.0017\n",
            "Epoch 89/100\n",
            "1486/1486 [==============================] - 8s 5ms/step - loss: 9.1554e-04 - val_loss: 0.0018\n",
            "Epoch 90/100\n",
            "1486/1486 [==============================] - 7s 5ms/step - loss: 9.2799e-04 - val_loss: 0.0018\n",
            "Epoch 91/100\n",
            "1486/1486 [==============================] - 8s 5ms/step - loss: 9.1033e-04 - val_loss: 0.0017\n",
            "Epoch 92/100\n",
            "1486/1486 [==============================] - 7s 5ms/step - loss: 8.9844e-04 - val_loss: 0.0018\n",
            "Epoch 93/100\n",
            "1486/1486 [==============================] - 7s 5ms/step - loss: 8.8235e-04 - val_loss: 0.0018\n",
            "Epoch 94/100\n",
            "1486/1486 [==============================] - 8s 5ms/step - loss: 8.6919e-04 - val_loss: 0.0018\n",
            "Epoch 95/100\n",
            "1486/1486 [==============================] - 7s 5ms/step - loss: 8.6675e-04 - val_loss: 0.0018\n",
            "Epoch 96/100\n",
            "1486/1486 [==============================] - 8s 5ms/step - loss: 8.6820e-04 - val_loss: 0.0018\n",
            "Epoch 97/100\n",
            "1486/1486 [==============================] - 8s 5ms/step - loss: 8.7702e-04 - val_loss: 0.0018\n",
            "Epoch 98/100\n",
            "1486/1486 [==============================] - 7s 5ms/step - loss: 8.5335e-04 - val_loss: 0.0018\n",
            "Epoch 99/100\n",
            "1486/1486 [==============================] - 8s 5ms/step - loss: 8.3688e-04 - val_loss: 0.0018\n",
            "Epoch 100/100\n",
            "1486/1486 [==============================] - 8s 5ms/step - loss: 8.3429e-04 - val_loss: 0.0018\n",
            "[0.005596025846898556, 0.0032286078203469515, 0.0031156991608440876, 0.002948465058580041, 0.002832637634128332, 0.002718526404350996, 0.002662614220753312, 0.0026077083311975002, 0.0026058233343064785, 0.0025619077496230602, 0.0025199861265718937, 0.002482897136360407, 0.0024385852739214897, 0.0024110504891723394, 0.0023508521262556314, 0.0023137053940445185, 0.002262742491438985, 0.0022202450782060623, 0.0021710116416215897, 0.0021445280872285366, 0.002111696172505617, 0.0020785091910511255, 0.0020465354900807142, 0.0020171585492789745, 0.0019927718676626682, 0.001964007504284382, 0.0019398345611989498, 0.0019094093004241586, 0.0018748538568615913, 0.0018625521333888173, 0.0018415165832266212, 0.0018112149555236101, 0.0017952369526028633, 0.0017696165014058352, 0.001747721224091947, 0.0017320432234555483, 0.0017103999853134155, 0.0016903361538425088, 0.0016702620778232813, 0.001643233117647469, 0.0016313268570229411, 0.0016087205149233341, 0.0015891474904492497, 0.00157182349357754, 0.0015657765325158834, 0.0015465631149709225, 0.0015209015691652894, 0.0014955088263377547, 0.0014864519471302629, 0.0014697675360366702, 0.0014479437377303839, 0.001436229795217514, 0.001423111418262124, 0.0013946557883173227, 0.0013833909761160612, 0.0013636770891025662, 0.0013557556085288525, 0.0013394460547715425, 0.0013271605130285025, 0.0013081353390589356, 0.0012930925004184246, 0.0012778096133843064, 0.0012687720591202378, 0.0012506472412496805, 0.0012318483786657453, 0.0012172849383205175, 0.0012079090811312199, 0.0011905812425538898, 0.0011725034564733505, 0.0011661380995064974, 0.0011477923253551126, 0.0011340526398271322, 0.001126570045016706, 0.0011121926363557577, 0.001093982602469623, 0.0010883795330300927, 0.0010758598800748587, 0.0010636772494763136, 0.0010532182641327381, 0.0010447540553286672, 0.0010294130770489573, 0.0010161194950342178, 0.001011412008665502, 0.0009946777718141675, 0.000989760854281485, 0.0009841020219027996, 0.0009586928063072264, 0.0009528660448268056, 0.0009439742425456643, 0.0009351045591756701, 0.000922816398087889, 0.0009183398797176778, 0.0009078782750293612, 0.0008986758766695857, 0.0008880583336576819, 0.0008868827717378736, 0.0008786469115875661, 0.0008655584533698857, 0.0008540404960513115, 0.0008445283747278154]\n"
          ],
          "name": "stdout"
        },
        {
          "output_type": "error",
          "ename": "KeyError",
          "evalue": "ignored",
          "traceback": [
            "\u001b[0;31m---------------------------------------------------------------------------\u001b[0m",
            "\u001b[0;31mKeyError\u001b[0m                                  Traceback (most recent call last)",
            "\u001b[0;32m<ipython-input-12-eebe830d908b>\u001b[0m in \u001b[0;36m<module>\u001b[0;34m()\u001b[0m\n\u001b[1;32m      1\u001b[0m \u001b[0mhistory\u001b[0m \u001b[0;34m=\u001b[0m \u001b[0mregressor\u001b[0m\u001b[0;34m.\u001b[0m\u001b[0mfit\u001b[0m\u001b[0;34m(\u001b[0m\u001b[0mX_train\u001b[0m\u001b[0;34m,\u001b[0m \u001b[0my_train\u001b[0m\u001b[0;34m,\u001b[0m \u001b[0mepochs\u001b[0m \u001b[0;34m=\u001b[0m \u001b[0;36m100\u001b[0m\u001b[0;34m,\u001b[0m \u001b[0mvalidation_split\u001b[0m\u001b[0;34m=\u001b[0m\u001b[0;36m0.33\u001b[0m\u001b[0;34m)\u001b[0m\u001b[0;34m\u001b[0m\u001b[0;34m\u001b[0m\u001b[0m\n\u001b[1;32m      2\u001b[0m \u001b[0mprint\u001b[0m\u001b[0;34m(\u001b[0m\u001b[0mhistory\u001b[0m\u001b[0;34m.\u001b[0m\u001b[0mhistory\u001b[0m\u001b[0;34m[\u001b[0m \u001b[0;34m'loss'\u001b[0m \u001b[0;34m]\u001b[0m\u001b[0;34m)\u001b[0m\u001b[0;34m\u001b[0m\u001b[0;34m\u001b[0m\u001b[0m\n\u001b[0;32m----> 3\u001b[0;31m \u001b[0mprint\u001b[0m\u001b[0;34m(\u001b[0m\u001b[0mhistory\u001b[0m\u001b[0;34m.\u001b[0m\u001b[0mhistory\u001b[0m\u001b[0;34m[\u001b[0m \u001b[0;34m'acc'\u001b[0m \u001b[0;34m]\u001b[0m\u001b[0;34m)\u001b[0m\u001b[0;34m\u001b[0m\u001b[0;34m\u001b[0m\u001b[0m\n\u001b[0m\u001b[1;32m      4\u001b[0m \u001b[0mprint\u001b[0m\u001b[0;34m(\u001b[0m\u001b[0mhistory\u001b[0m\u001b[0;34m.\u001b[0m\u001b[0mhistory\u001b[0m\u001b[0;34m[\u001b[0m \u001b[0;34m'val_loss'\u001b[0m \u001b[0;34m]\u001b[0m\u001b[0;34m)\u001b[0m\u001b[0;34m\u001b[0m\u001b[0;34m\u001b[0m\u001b[0m\n\u001b[1;32m      5\u001b[0m \u001b[0mprint\u001b[0m\u001b[0;34m(\u001b[0m\u001b[0mhistory\u001b[0m\u001b[0;34m.\u001b[0m\u001b[0mhistory\u001b[0m\u001b[0;34m[\u001b[0m \u001b[0;34m'val_acc'\u001b[0m \u001b[0;34m]\u001b[0m\u001b[0;34m)\u001b[0m\u001b[0;34m\u001b[0m\u001b[0;34m\u001b[0m\u001b[0m\n",
            "\u001b[0;31mKeyError\u001b[0m: 'acc'"
          ]
        }
      ]
    },
    {
      "cell_type": "code",
      "metadata": {
        "colab": {
          "base_uri": "https://localhost:8080/"
        },
        "id": "Q2FFEEqfvPD8",
        "outputId": "1558010e-e848-4774-a626-534492088af9"
      },
      "source": [
        "#print(history.history[ 'acc' ])\n",
        "print(history.history[ 'val_loss' ])\n",
        "#print(history.history[ 'val_acc' ])"
      ],
      "execution_count": 14,
      "outputs": [
        {
          "output_type": "stream",
          "text": [
            "[0.0033810376189649105, 0.0031918080057948828, 0.0030330857262015343, 0.002853814512491226, 0.003029545769095421, 0.0029909606091678143, 0.002960669109597802, 0.0026884658727794886, 0.0026459654327481985, 0.002595135010778904, 0.0025972474832087755, 0.002538483589887619, 0.0024880976416170597, 0.0024828703608363867, 0.002431904897093773, 0.002394367940723896, 0.0022647823207080364, 0.0022124534007161856, 0.002217291621491313, 0.0021715357434004545, 0.002109701046720147, 0.0020867660641670227, 0.002205887110903859, 0.002088917186483741, 0.002037802943959832, 0.002158526098355651, 0.0019801808521151543, 0.0019567045383155346, 0.001996796578168869, 0.0019707202445715666, 0.0019212295301258564, 0.0019232305930927396, 0.0019204509444534779, 0.0018617832101881504, 0.0019300307612866163, 0.0018824992002919316, 0.0018820073455572128, 0.001829562010243535, 0.0018265830585733056, 0.0018215036252513528, 0.0018971717217937112, 0.0018064517062157393, 0.00188793137203902, 0.0018053966341540217, 0.0017841254593804479, 0.001859912066720426, 0.0017574531957507133, 0.0017624831525608897, 0.0018230800051242113, 0.002010200172662735, 0.0017593398224562407, 0.0018431199714541435, 0.001845870167016983, 0.0017932001501321793, 0.0019002248300239444, 0.001745699904859066, 0.0017501708352938294, 0.0016989012947306037, 0.0017306251684203744, 0.001793494913727045, 0.0017339629121124744, 0.0017331086564809084, 0.001788091380149126, 0.0017763851210474968, 0.0017086296575143933, 0.0017353520961478353, 0.0017542879795655608, 0.0017549576004967093, 0.0017233731923624873, 0.0017313070129603148, 0.0017524169525131583, 0.0017458655638620257, 0.0017229007789865136, 0.0017766025848686695, 0.0017681082244962454, 0.0017588689224794507, 0.0017720648320391774, 0.0017739580944180489, 0.0017012367025017738, 0.0017531102057546377, 0.0017621703445911407, 0.0018036842811852694, 0.0018049614736810327, 0.0018832776695489883, 0.001772570889443159, 0.0017638395074754953, 0.0017879330553114414, 0.0017076015938073397, 0.0017534242942929268, 0.001814254093915224, 0.0017388364067301154, 0.0017860090592876077, 0.001766652101650834, 0.0018017757683992386, 0.0017655312549322844, 0.001805569278076291, 0.0017927265726029873, 0.0017907804576680064, 0.0017805908573791385, 0.0018111664103344083]\n"
          ],
          "name": "stdout"
        }
      ]
    },
    {
      "cell_type": "code",
      "metadata": {
        "colab": {
          "base_uri": "https://localhost:8080/",
          "height": 299
        },
        "id": "gDfkEzmjgQay",
        "outputId": "90b2a39b-f2fd-44eb-9ea8-3734ff64a76d"
      },
      "source": [
        "plt.plot(history.history[ 'loss' ])\n",
        "plt.plot(history.history[ 'val_loss' ])\n",
        "plt.title( 'model train vs validation loss' )"
      ],
      "execution_count": 15,
      "outputs": [
        {
          "output_type": "execute_result",
          "data": {
            "text/plain": [
              "Text(0.5, 1.0, 'model train vs validation loss')"
            ]
          },
          "metadata": {
            "tags": []
          },
          "execution_count": 15
        },
        {
          "output_type": "display_data",
          "data": {
            "image/png": "[encoded data removed]",
            "text/plain": [
              "<Figure size 432x288 with 1 Axes>"
            ]
          },
          "metadata": {
            "tags": [],
            "needs_background": "light"
          }
        }
      ]
    },
    {
      "cell_type": "code",
      "metadata": {
        "id": "H18CosT13eEc"
      },
      "source": [
        "dataset_total = pd.concat((train, test), axis = 0)\n",
        "inputs = dataset_total[len(dataset_total) - len(test) - 50:].values\n",
        "inputs = inputs.reshape(-1,1)\n",
        "inputs = sc.transform(inputs)\n",
        "X_test = []\n",
        "for i in range(50, len(inputs)):\n",
        "    X_test.append(inputs[i-50:i-1, 0])\n",
        "X_test = np.array(X_test)\n",
        "X_test = np.reshape(X_test, (X_test.shape[0], X_test.shape[1], 1))\n",
        "predicted_vibration_value = regressor.predict(X_test)\n",
        "predicted_vibration_value = sc.inverse_transform(predicted_vibration_value)"
      ],
      "execution_count": 16,
      "outputs": []
    },
    {
      "cell_type": "code",
      "metadata": {
        "colab": {
          "base_uri": "https://localhost:8080/"
        },
        "id": "rLbBMs3qP3DL",
        "outputId": "f5bc28ab-42d5-4cca-8f4c-f6e0b01bcc65"
      },
      "source": [
        "\n",
        "test_label=np.array(test)\n",
        "test_label=test_label.astype(np.float32)\n",
        "#type(test)\n",
        "print(test_label)\n",
        "#test_label[0]\n",
        "rmse=np.sqrt(np.mean(((predicted_vibration_value- test_label)**2)))\n",
        "print(rmse)"
      ],
      "execution_count": 17,
      "outputs": [
        {
          "output_type": "stream",
          "text": [
            "[[ -3.08466]\n",
            " [  1.82825]\n",
            " [  3.71882]\n",
            " ...\n",
            " [  6.53028]\n",
            " [ -8.61446]\n",
            " [-13.7773 ]]\n",
            "3.3067632\n"
          ],
          "name": "stdout"
        }
      ]
    },
    {
      "cell_type": "code",
      "metadata": {
        "colab": {
          "base_uri": "https://localhost:8080/",
          "height": 585
        },
        "id": "Vc_laYb46I4U",
        "outputId": "f61d9d43-6899-465c-9492-7a82797472ed"
      },
      "source": [
        "plt.figure(figsize = (18,9))\n",
        "plt.plot(test_label, color = 'red', label = 'Real_data')  # 紅線表示真實數據\n",
        "plt.plot(predicted_vibration_value, color = 'blue', label = 'Predicted_data')  # 藍線表示預測數據\n",
        "plt.title('Vibration Prediction')\n",
        "plt.xlabel('Time')\n",
        "plt.ylabel('Vibration')\n",
        "plt.legend()\n",
        "plt.show()\n",
        "myfig = plt.gcf()\n",
        "myfig.savefig('/content/drive/MyDrive/ML2021/figure.png',dpi=300)"
      ],
      "execution_count": 18,
      "outputs": [
        {
          "output_type": "display_data",
          "data": {
            "image/png": "[encoded data removed]",
            "text/plain": [
              "<Figure size 1296x648 with 1 Axes>"
            ]
          },
          "metadata": {
            "tags": [],
            "needs_background": "light"
          }
        },
        {
          "output_type": "display_data",
          "data": {
            "text/plain": [
              "<Figure size 432x288 with 0 Axes>"
            ]
          },
          "metadata": {
            "tags": []
          }
        }
      ]
    },
    {
      "cell_type": "code",
      "metadata": {
        "id": "vOZOIW1jLfYc"
      },
      "source": [
        "regressor.save('/content/drive/MyDrive/ML2021/my_model.h5')"
      ],
      "execution_count": 20,
      "outputs": []
    },
    {
      "cell_type": "code",
      "metadata": {
        "id": "Z5Yxob6R3BOc"
      },
      "source": [
        ""
      ],
      "execution_count": null,
      "outputs": []
    }
  ]
}